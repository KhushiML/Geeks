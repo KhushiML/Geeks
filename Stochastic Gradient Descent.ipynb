{
 "cells": [
  {
   "cell_type": "code",
   "execution_count": 1,
   "id": "7e28aab7",
   "metadata": {},
   "outputs": [],
   "source": [
    "import numpy as np"
   ]
  },
  {
   "cell_type": "code",
   "execution_count": 4,
   "id": "f3dcd611",
   "metadata": {},
   "outputs": [],
   "source": [
    "class SGD:\n",
    "    def __init__(self, lr = 0.01, max_iter = 1000, batch_size = 32, tol = 1e-3):\n",
    "        # learning rate of SGD optimizer\n",
    "        self.learning_rate = lr\n",
    "        # maximum number of iterations for SGD optimizer\n",
    "        self.max_iteration = max_iter\n",
    "        # mini batch -size of data\n",
    "        self.batch_size = batch_size\n",
    "        # tolerance for convergance for theta\n",
    "        self.tolerance_convergance = tol\n",
    "        # Initialize model paramers to none\n",
    "        self.theta = None\n",
    "        \n",
    "    def fit(self, X, y):\n",
    "        # store dimensions of input vector\n",
    "        n, d = X.shape\n",
    "        \n",
    "        # Initialize random theta for every feature\n",
    "        self.theta = np.random.randn(d)\n",
    "        \n",
    "        for i in range(0, n, self.batch_size):\n",
    "            X_batch = X[i:i+self.batch_size]\n",
    "            y_batch = y[i:i+self.batch_size]\n",
    "            grad = self.gradient(X_batch, y_batch)\n",
    "            self.theta -= self.learning_rate * grad\n",
    "        # Check for convergence\n",
    "            if np.linalg.norm(grad) < self.tolerance_convergence:\n",
    "                break\n",
    "    # Define a gradient function for calculating gradient of the data\n",
    "    def gradient(self, X, y):\n",
    "        n = len(y)\n",
    "        # Predict target value by taking dot product of dependant and theta value\n",
    "        y_pred = np.dot(X, self.theta )\n",
    "        \n",
    "        # Calculate error between predict and actual value\n",
    "        error = y_pred -y\n",
    "        grad = np.dot(X.T, error) / n\n",
    "        return grad\n",
    "    \n",
    "    def predict(self, X):\n",
    "        # predict y value using calculated theta value\n",
    "        y_pred = np.dot(X, self.theta)\n",
    "        return y_pred\n",
    "        \n",
    "        "
   ]
  },
  {
   "cell_type": "code",
   "execution_count": 6,
   "id": "9051031b",
   "metadata": {},
   "outputs": [
    {
     "ename": "AttributeError",
     "evalue": "'SGD' object has no attribute 'tolerance_convergence'",
     "output_type": "error",
     "traceback": [
      "\u001b[1;31m---------------------------------------------------------------------------\u001b[0m",
      "\u001b[1;31mAttributeError\u001b[0m                            Traceback (most recent call last)",
      "\u001b[1;32m~\\AppData\\Local\\Temp\\ipykernel_16212\\207188207.py\u001b[0m in \u001b[0;36m<module>\u001b[1;34m\u001b[0m\n\u001b[0;32m      7\u001b[0m \u001b[1;31m# Create an instance of sgd class\u001b[0m\u001b[1;33m\u001b[0m\u001b[1;33m\u001b[0m\u001b[0m\n\u001b[0;32m      8\u001b[0m \u001b[0mmodel\u001b[0m \u001b[1;33m=\u001b[0m \u001b[0mSGD\u001b[0m\u001b[1;33m(\u001b[0m\u001b[0mlr\u001b[0m \u001b[1;33m=\u001b[0m \u001b[1;36m0.01\u001b[0m\u001b[1;33m,\u001b[0m \u001b[0mmax_iter\u001b[0m \u001b[1;33m=\u001b[0m \u001b[1;36m1000\u001b[0m\u001b[1;33m,\u001b[0m \u001b[0mbatch_size\u001b[0m \u001b[1;33m=\u001b[0m \u001b[1;36m32\u001b[0m\u001b[1;33m,\u001b[0m \u001b[0mtol\u001b[0m \u001b[1;33m=\u001b[0m \u001b[1;36m1e-3\u001b[0m\u001b[1;33m)\u001b[0m\u001b[1;33m\u001b[0m\u001b[1;33m\u001b[0m\u001b[0m\n\u001b[1;32m----> 9\u001b[1;33m \u001b[0mmodel\u001b[0m\u001b[1;33m.\u001b[0m\u001b[0mfit\u001b[0m\u001b[1;33m(\u001b[0m\u001b[0mX\u001b[0m\u001b[1;33m,\u001b[0m\u001b[0my\u001b[0m\u001b[1;33m)\u001b[0m\u001b[1;33m\u001b[0m\u001b[1;33m\u001b[0m\u001b[0m\n\u001b[0m\u001b[0;32m     10\u001b[0m \u001b[1;33m\u001b[0m\u001b[0m\n\u001b[0;32m     11\u001b[0m \u001b[1;31m#Predict using predict method from model\u001b[0m\u001b[1;33m\u001b[0m\u001b[1;33m\u001b[0m\u001b[0m\n",
      "\u001b[1;32m~\\AppData\\Local\\Temp\\ipykernel_16212\\1005726127.py\u001b[0m in \u001b[0;36mfit\u001b[1;34m(self, X, y)\u001b[0m\n\u001b[0;32m     25\u001b[0m             \u001b[0mself\u001b[0m\u001b[1;33m.\u001b[0m\u001b[0mtheta\u001b[0m \u001b[1;33m-=\u001b[0m \u001b[0mself\u001b[0m\u001b[1;33m.\u001b[0m\u001b[0mlearning_rate\u001b[0m \u001b[1;33m*\u001b[0m \u001b[0mgrad\u001b[0m\u001b[1;33m\u001b[0m\u001b[1;33m\u001b[0m\u001b[0m\n\u001b[0;32m     26\u001b[0m         \u001b[1;31m# Check for convergence\u001b[0m\u001b[1;33m\u001b[0m\u001b[1;33m\u001b[0m\u001b[0m\n\u001b[1;32m---> 27\u001b[1;33m             \u001b[1;32mif\u001b[0m \u001b[0mnp\u001b[0m\u001b[1;33m.\u001b[0m\u001b[0mlinalg\u001b[0m\u001b[1;33m.\u001b[0m\u001b[0mnorm\u001b[0m\u001b[1;33m(\u001b[0m\u001b[0mgrad\u001b[0m\u001b[1;33m)\u001b[0m \u001b[1;33m<\u001b[0m \u001b[0mself\u001b[0m\u001b[1;33m.\u001b[0m\u001b[0mtolerance_convergence\u001b[0m\u001b[1;33m:\u001b[0m\u001b[1;33m\u001b[0m\u001b[1;33m\u001b[0m\u001b[0m\n\u001b[0m\u001b[0;32m     28\u001b[0m                 \u001b[1;32mbreak\u001b[0m\u001b[1;33m\u001b[0m\u001b[1;33m\u001b[0m\u001b[0m\n\u001b[0;32m     29\u001b[0m     \u001b[1;31m# Define a gradient function for calculating gradient of the data\u001b[0m\u001b[1;33m\u001b[0m\u001b[1;33m\u001b[0m\u001b[0m\n",
      "\u001b[1;31mAttributeError\u001b[0m: 'SGD' object has no attribute 'tolerance_convergence'"
     ]
    }
   ],
   "source": [
    "# Create random dataset with 100 rows and 5 columns\n",
    "X = np.random.randn(100,5)\n",
    "\n",
    "# Creating corresponding target value by adding random \n",
    "# noise in the dataset\n",
    "y = np.dot(X, np.array([1,2,3,4,5]))+ np.random.randn(100) * 0.1\n",
    "# Create an instance of sgd class\n",
    "model = SGD(lr = 0.01, max_iter = 1000, batch_size = 32, tol = 1e-3)\n",
    "model.fit(X,y)\n",
    "\n",
    "#Predict using predict method from model\n",
    "y_pred = model.predict(X)\n"
   ]
  },
  {
   "cell_type": "code",
   "execution_count": null,
   "id": "43fa9b92",
   "metadata": {},
   "outputs": [],
   "source": []
  }
 ],
 "metadata": {
  "kernelspec": {
   "display_name": "Python 3 (ipykernel)",
   "language": "python",
   "name": "python3"
  },
  "language_info": {
   "codemirror_mode": {
    "name": "ipython",
    "version": 3
   },
   "file_extension": ".py",
   "mimetype": "text/x-python",
   "name": "python",
   "nbconvert_exporter": "python",
   "pygments_lexer": "ipython3",
   "version": "3.10.9"
  }
 },
 "nbformat": 4,
 "nbformat_minor": 5
}
