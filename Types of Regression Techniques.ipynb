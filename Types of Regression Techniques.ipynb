{
 "cells": [
  {
   "cell_type": "markdown",
   "id": "1a19e977",
   "metadata": {},
   "source": [
    "# Linear Regression"
   ]
  },
  {
   "cell_type": "code",
   "execution_count": 1,
   "id": "0dade50a",
   "metadata": {},
   "outputs": [],
   "source": [
    "from sklearn.linear_model import LinearRegression"
   ]
  },
  {
   "cell_type": "code",
   "execution_count": 2,
   "id": "b597155d",
   "metadata": {},
   "outputs": [],
   "source": [
    "model = LinearRegression()"
   ]
  },
  {
   "cell_type": "code",
   "execution_count": 5,
   "id": "e3043925",
   "metadata": {},
   "outputs": [
    {
     "ename": "NameError",
     "evalue": "name 'X' is not defined",
     "output_type": "error",
     "traceback": [
      "\u001b[1;31m---------------------------------------------------------------------------\u001b[0m",
      "\u001b[1;31mNameError\u001b[0m                                 Traceback (most recent call last)",
      "\u001b[1;32m~\\AppData\\Local\\Temp\\ipykernel_12176\\2489992722.py\u001b[0m in \u001b[0;36m<module>\u001b[1;34m\u001b[0m\n\u001b[1;32m----> 1\u001b[1;33m \u001b[0mmodel\u001b[0m\u001b[1;33m.\u001b[0m\u001b[0mfit\u001b[0m\u001b[1;33m(\u001b[0m\u001b[0mX\u001b[0m\u001b[1;33m,\u001b[0m \u001b[0my\u001b[0m\u001b[1;33m)\u001b[0m\u001b[1;33m\u001b[0m\u001b[1;33m\u001b[0m\u001b[0m\n\u001b[0m",
      "\u001b[1;31mNameError\u001b[0m: name 'X' is not defined"
     ]
    }
   ],
   "source": [
    "model.fit(X, y)"
   ]
  },
  {
   "cell_type": "code",
   "execution_count": 6,
   "id": "303b2570",
   "metadata": {},
   "outputs": [
    {
     "ename": "NameError",
     "evalue": "name 'X_new' is not defined",
     "output_type": "error",
     "traceback": [
      "\u001b[1;31m---------------------------------------------------------------------------\u001b[0m",
      "\u001b[1;31mNameError\u001b[0m                                 Traceback (most recent call last)",
      "\u001b[1;32m~\\AppData\\Local\\Temp\\ipykernel_12176\\1301188740.py\u001b[0m in \u001b[0;36m<module>\u001b[1;34m\u001b[0m\n\u001b[1;32m----> 1\u001b[1;33m \u001b[0my_pred\u001b[0m \u001b[1;33m=\u001b[0m \u001b[0mmodel\u001b[0m\u001b[1;33m.\u001b[0m\u001b[0mpredict\u001b[0m\u001b[1;33m(\u001b[0m\u001b[0mX_new\u001b[0m\u001b[1;33m)\u001b[0m\u001b[1;33m\u001b[0m\u001b[1;33m\u001b[0m\u001b[0m\n\u001b[0m",
      "\u001b[1;31mNameError\u001b[0m: name 'X_new' is not defined"
     ]
    }
   ],
   "source": [
    "y_pred = model.predict(X_new)"
   ]
  },
  {
   "cell_type": "markdown",
   "id": "36e4ec63",
   "metadata": {},
   "source": [
    "# Polynomial Regression"
   ]
  },
  {
   "cell_type": "code",
   "execution_count": 7,
   "id": "d457e8f9",
   "metadata": {},
   "outputs": [
    {
     "ename": "ImportError",
     "evalue": "cannot import name 'PolynomialRegression' from 'sklearn.linear_model' (D:\\ProgramData\\Anaconda3\\envs\\myenv\\lib\\site-packages\\sklearn\\linear_model\\__init__.py)",
     "output_type": "error",
     "traceback": [
      "\u001b[1;31m---------------------------------------------------------------------------\u001b[0m",
      "\u001b[1;31mImportError\u001b[0m                               Traceback (most recent call last)",
      "\u001b[1;32m~\\AppData\\Local\\Temp\\ipykernel_12176\\1628110112.py\u001b[0m in \u001b[0;36m<module>\u001b[1;34m\u001b[0m\n\u001b[1;32m----> 1\u001b[1;33m \u001b[1;32mfrom\u001b[0m \u001b[0msklearn\u001b[0m\u001b[1;33m.\u001b[0m\u001b[0mlinear_model\u001b[0m \u001b[1;32mimport\u001b[0m \u001b[0mPolynomialRegression\u001b[0m\u001b[1;33m\u001b[0m\u001b[1;33m\u001b[0m\u001b[0m\n\u001b[0m",
      "\u001b[1;31mImportError\u001b[0m: cannot import name 'PolynomialRegression' from 'sklearn.linear_model' (D:\\ProgramData\\Anaconda3\\envs\\myenv\\lib\\site-packages\\sklearn\\linear_model\\__init__.py)"
     ]
    }
   ],
   "source": [
    "from sklearn.linear_model import PolynomialRegression\n",
    "\n",
    "# Create a Polynomial Regression Model\n",
    "model = PolynomialRegression(degree = 2)\n",
    "\n",
    "# Fit the model to data\n",
    "model.fit(X,y)\n",
    "\n",
    "# Predict the response for a new data Point\n",
    "y_pred = model.predict(X_new)\n"
   ]
  },
  {
   "cell_type": "markdown",
   "id": "f4210b91",
   "metadata": {},
   "source": [
    "# Stepwise Regression Model"
   ]
  },
  {
   "cell_type": "code",
   "execution_count": null,
   "id": "1216f316",
   "metadata": {},
   "outputs": [],
   "source": [
    "from sklearn.linear_model import StepwiseLinearRegression\n",
    "\n",
    "# Create a Stepwise regression Model\n",
    "model = StepwiseLinearRegression(forward = True, backward = True, verbose =1)\n",
    "\n",
    "# Fit the model to data\n",
    "model.fit(X,y)\n",
    "\n",
    "# Predict for the response for a new data point\n",
    "y_pred = model.predict(X_new)"
   ]
  },
  {
   "cell_type": "markdown",
   "id": "1dce71ae",
   "metadata": {},
   "source": [
    "# Decision Tree Regression"
   ]
  },
  {
   "cell_type": "code",
   "execution_count": null,
   "id": "79d8ab81",
   "metadata": {},
   "outputs": [],
   "source": [
    "from sklearn.Tree import DecisionTreeReressor\n",
    "\n",
    "# Create a decision tree regression model\n",
    "model = DecisionTreeRegressor\n",
    "\n",
    "#Fit the model to data\n",
    "model.fit(X,y)\n",
    "\n",
    "# Predict for the response for a new data point\n",
    "y_pred = model.predict(X_new)"
   ]
  },
  {
   "cell_type": "markdown",
   "id": "52947cce",
   "metadata": {},
   "source": [
    "# Random Forest Regression"
   ]
  },
  {
   "cell_type": "code",
   "execution_count": null,
   "id": "56e1719f",
   "metadata": {},
   "outputs": [],
   "source": [
    "from sklearn.ensemble import RandomForestRegressor\n",
    "\n",
    "#Create a random forest Regression model\n",
    "model = RandomForestRegressor(n_estimators = 100)\n",
    "\n",
    "# Fit the model to data\n",
    "model.fit(X,y)\n",
    "\n",
    "# Predict for the response for a new data point\n",
    "y_pred = model.predict(X_new)"
   ]
  },
  {
   "cell_type": "markdown",
   "id": "6af18da6",
   "metadata": {},
   "source": [
    "# Support Vector Regression"
   ]
  },
  {
   "cell_type": "code",
   "execution_count": null,
   "id": "daa8e67f",
   "metadata": {},
   "outputs": [],
   "source": [
    "from sklearn.svm import SVR\n",
    "\n",
    "# Create a Support Vector Regression Model\n",
    "model = SVR(kernel = 'linear')\n",
    "\n",
    "# Fit the model to data\n",
    "model.fit(X,y)\n",
    "\n",
    "# Predict for the response for a new data point\n",
    "y_pred = model.predict(X_new)\n"
   ]
  },
  {
   "cell_type": "markdown",
   "id": "9817d3d3",
   "metadata": {},
   "source": [
    "# Ridge Regression"
   ]
  },
  {
   "cell_type": "code",
   "execution_count": null,
   "id": "f1c5ad45",
   "metadata": {},
   "outputs": [],
   "source": [
    "from sklearn.linear_model import Ridge\n",
    "\n",
    "# Create a Ridge Regression Model\n",
    "model = Ridge(alpha = 0.1)\n",
    "\n",
    "# Fit the model to data\n",
    "model.fit(X,y)\n",
    "\n",
    "# Predict the response for a new data point\n",
    "y_pred = model.pedict(X_new)"
   ]
  },
  {
   "cell_type": "markdown",
   "id": "e24335fb",
   "metadata": {},
   "source": [
    "# Lasso Regression"
   ]
  },
  {
   "cell_type": "code",
   "execution_count": null,
   "id": "a7eb5c81",
   "metadata": {},
   "outputs": [],
   "source": [
    "from sklearn.linear_model import Lasso\n",
    "\n",
    "# Create a Lasso Regression Model\n",
    "model = Lasso(alpha = 0.1)\n",
    "\n",
    "# Fit the model to data\n",
    "model.fit(X,y)\n",
    "\n",
    "# Predict the response for a new data point\n",
    "y_pred = model.predict(X_new)"
   ]
  },
  {
   "cell_type": "markdown",
   "id": "8fc51216",
   "metadata": {},
   "source": [
    "# Elastic Net Regression Model"
   ]
  },
  {
   "cell_type": "code",
   "execution_count": null,
   "id": "33faf63e",
   "metadata": {},
   "outputs": [],
   "source": [
    "from sklearn.linear_model import ElasticNet\n",
    "\n",
    "# Create an Elastic Net Regression Model\n",
    "model = ElasticNet(alpha = 0.1, l1_ratio = 0.5)\n",
    "\n",
    "# Fit the model to data\n",
    "model.fit(X,y)\n",
    "\n",
    "# Predict the response for a new data point\n",
    "y_pred = model.predict(X_new)"
   ]
  },
  {
   "cell_type": "markdown",
   "id": "8f59f092",
   "metadata": {},
   "source": [
    "# Bayesian Linear Regression"
   ]
  },
  {
   "cell_type": "code",
   "execution_count": null,
   "id": "1beda101",
   "metadata": {},
   "outputs": [],
   "source": [
    "from sklearn.linear_model import BayesianLinearRegression\n",
    "\n",
    "# Create a Bayesian Linear Regression Model\n",
    "model = BayesianLinearRegression()\n",
    "\n",
    "# Fit the model to data\n",
    "model.fit(X,y)\n",
    "\n",
    "# Predict the response for a new data point\n",
    "y_pred = model.predict(X_new)\n"
   ]
  },
  {
   "cell_type": "markdown",
   "id": "423e0937",
   "metadata": {},
   "source": [
    "# "
   ]
  }
 ],
 "metadata": {
  "kernelspec": {
   "display_name": "Python 3 (ipykernel)",
   "language": "python",
   "name": "python3"
  },
  "language_info": {
   "codemirror_mode": {
    "name": "ipython",
    "version": 3
   },
   "file_extension": ".py",
   "mimetype": "text/x-python",
   "name": "python",
   "nbconvert_exporter": "python",
   "pygments_lexer": "ipython3",
   "version": "3.10.9"
  }
 },
 "nbformat": 4,
 "nbformat_minor": 5
}
